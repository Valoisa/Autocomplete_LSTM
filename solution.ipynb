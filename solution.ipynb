{
 "cells": [
  {
   "cell_type": "markdown",
   "id": "c02ad7bf",
   "metadata": {},
   "source": [
    "### Загружаем данные для обучения: `train_texts`, `val_texts`, `test_texts`"
   ]
  },
  {
   "cell_type": "code",
   "execution_count": 1,
   "id": "1ee18919",
   "metadata": {},
   "outputs": [
    {
     "name": "stderr",
     "output_type": "stream",
     "text": [
      "/home/ubuntu/.venv/lib/python3.10/site-packages/tqdm/auto.py:21: TqdmWarning: IProgress not found. Please update jupyter and ipywidgets. See https://ipywidgets.readthedocs.io/en/stable/user_install.html\n",
      "  from .autonotebook import tqdm as notebook_tqdm\n",
      "Downloading builder script: 6.27kB [00:00, 12.1MB/s]\n",
      "Downloading data: 100%|██████████| 81.4M/81.4M [00:05<00:00, 13.6MB/s]\n",
      "Generating train split: 100%|██████████| 1600000/1600000 [00:55<00:00, 28963.50 examples/s]\n",
      "Generating test split: 100%|██████████| 498/498 [00:00<00:00, 26545.55 examples/s]\n"
     ]
    },
    {
     "name": "stdout",
     "output_type": "stream",
     "text": [
      "1600000\n"
     ]
    }
   ],
   "source": [
    "from datasets import load_dataset\n",
    "\n",
    "from sklearn.model_selection import train_test_split\n",
    "\n",
    "from os.path import isfile\n",
    "\n",
    "from src.data_utils import clean_text\n",
    "\n",
    "import pandas as pd\n",
    "\n",
    "import numpy as np\n",
    "\n",
    "import os\n",
    "\n",
    "\n",
    "train_texts, val_texts, test_texts = None, None, None\n",
    "foldername = 'data'\n",
    "raw_dataset_filepath = os.path.join(foldername, 'raw_dataset.csv')\n",
    "processed_dataset_filepath = os.path.join(foldername, 'processed_dataset.csv')\n",
    "train_filepath = os.path.join(foldername, 'train.csv')\n",
    "val_filepath = os.path.join(foldername, 'val.csv')\n",
    "test_filepath = os.path.join(foldername, 'test.csv')\n",
    "text_column = 'text'\n",
    "\n",
    "# Если такие файлы уже есть, загружаем данные для обучения из них\n",
    "if isfile(train_filepath) and isfile(val_filepath) and isfile(test_filepath):\n",
    "    train_texts = pd.read_csv(train_filepath).dropna()[text_column].to_list()\n",
    "    val_texts = pd.read_csv(val_filepath).dropna()[text_column].to_list()\n",
    "    test_texts = pd.read_csv(test_filepath).dropna()[text_column].to_list()\n",
    "# В противном случае скачиваем датасет, обрабатываем, делим его на выборки и сохраняем\n",
    "else:\n",
    "    dataset = load_dataset('sentiment140', trust_remote_code=True, split='train', cache_dir='data')['text']\n",
    "    dataset_df = pd.DataFrame({ text_column: dataset })\n",
    "    dataset_df.to_csv(raw_dataset_filepath, index=False)\n",
    "\n",
    "    texts = list(map(clean_text, dataset))\n",
    "    print(len(texts))\n",
    "    texts_df = pd.DataFrame({ text_column: texts })\n",
    "    texts_df.to_csv(processed_dataset_filepath, index=False)\n",
    "\n",
    "    val_test = 0.2\n",
    "    test = 0.5\n",
    "    train_texts, val_test_texts = train_test_split(texts, test_size=val_test, random_state=42)\n",
    "    val_texts, test_texts = train_test_split(val_test_texts, test_size=test)\n",
    "\n",
    "    train_df = pd.DataFrame({ text_column: train_texts })\n",
    "    train_df.to_csv(train_filepath, index=False)\n",
    "\n",
    "    test_df = pd.DataFrame({ text_column: test_texts })\n",
    "    test_df.to_csv(test_filepath, index=False)\n",
    "\n",
    "    val_df = pd.DataFrame({ text_column: val_texts })\n",
    "    val_df.to_csv(val_filepath, index=False)"
   ]
  },
  {
   "cell_type": "markdown",
   "id": "ccbb5463",
   "metadata": {},
   "source": [
    "### Из полученных данных формируем датасеты"
   ]
  },
  {
   "cell_type": "markdown",
   "id": "83bfa0f6",
   "metadata": {},
   "source": [
    "Я использовала посимвольную токенизацию, так как она, на мой взгляд, лучше подходит для LSTM автодополнений, чем разбиение на подслова, как в bert-base-uncased."
   ]
  },
  {
   "cell_type": "code",
   "execution_count": 5,
   "id": "1eec5cc5",
   "metadata": {},
   "outputs": [],
   "source": [
    "from torch.utils.data import DataLoader\n",
    "\n",
    "from src.next_token_dataset import NextTokenDataset, EvalROUGEDataset, collate_fn, collate_fn_rouge_ds\n",
    "from src.char_tokenizer import CharTokenizer\n",
    "\n",
    "\n",
    "tokenizer = CharTokenizer()\n",
    "\n",
    "batch_size = 256\n",
    "\n",
    "sorted_ids = np.argsort([len(text) for text in train_texts])\n",
    "train_texts = np.array(train_texts)[sorted_ids]\n",
    "train_dataset = NextTokenDataset(train_texts, tokenizer)\n",
    "train_dataloader = DataLoader(train_dataset, batch_size=batch_size, shuffle=True, collate_fn=collate_fn)\n",
    "\n",
    "sorted_ids = np.argsort([len(text) for text in val_texts])\n",
    "val_texts = np.array(val_texts)[sorted_ids]\n",
    "val_dataset = NextTokenDataset(val_texts, tokenizer)\n",
    "val_dataloader = DataLoader(val_dataset, batch_size=batch_size, collate_fn=collate_fn)\n",
    "\n",
    "# Датасет для вычисления метрик ROUGE на валидационных данных\n",
    "val_rouge_dataset = EvalROUGEDataset(val_texts, tokenizer)\n",
    "val_rouge_dataloader = DataLoader(val_rouge_dataset, batch_size=batch_size, collate_fn=collate_fn_rouge_ds)\n",
    "\n",
    "sorted_ids = np.argsort([len(text) for text in test_texts])\n",
    "test_texts = np.array(test_texts)[sorted_ids]\n",
    "test_dataset = EvalROUGEDataset(test_texts, tokenizer)\n",
    "test_dataloader = DataLoader(test_dataset, batch_size=batch_size, collate_fn=collate_fn_rouge_ds)"
   ]
  },
  {
   "cell_type": "markdown",
   "id": "e6d53559",
   "metadata": {},
   "source": [
    "### Обучаем модель:"
   ]
  },
  {
   "cell_type": "code",
   "execution_count": 6,
   "id": "2af37335",
   "metadata": {},
   "outputs": [
    {
     "name": "stdout",
     "output_type": "stream",
     "text": [
      "=== Before training ===\n"
     ]
    },
    {
     "name": "stderr",
     "output_type": "stream",
     "text": [
      "Evaluating: 100%|██████████| 620/620 [00:30<00:00, 20.24it/s]\n",
      "Evaluating ROUGE: 100%|██████████| 620/620 [10:10<00:00,  1.02it/s]\n"
     ]
    },
    {
     "name": "stdout",
     "output_type": "stream",
     "text": [
      "Validation loss: 3.931639345999687\n",
      "Rouge metrics:\n",
      "rouge1: 0.0030\n",
      "rouge2: 0.0000\n",
      "rougeL: 0.0030\n",
      "rougeLsum: 0.0030\n",
      "what are you talking 6gyjzl\"2xy;-;;)5ss6;24?alcp(!q?tbtuizp3j\n",
      "===================================\n",
      "\n"
     ]
    },
    {
     "name": "stderr",
     "output_type": "stream",
     "text": [
      "Training epoch 1: 100%|██████████| 4963/4963 [24:15<00:00,  3.41it/s]\n"
     ]
    },
    {
     "name": "stdout",
     "output_type": "stream",
     "text": [
      "Epoch: 1, training loss: 1.4767\n"
     ]
    },
    {
     "name": "stderr",
     "output_type": "stream",
     "text": [
      "Evaluating: 100%|██████████| 620/620 [00:34<00:00, 18.19it/s]\n",
      "Evaluating ROUGE: 100%|██████████| 620/620 [10:22<00:00,  1.00s/it]\n"
     ]
    },
    {
     "name": "stdout",
     "output_type": "stream",
     "text": [
      "Validation loss: 1.3481774447425718\n",
      "Rouge metrics:\n",
      "rouge1: 0.1033\n",
      "rouge2: 0.0067\n",
      "rougeL: 0.1032\n",
      "rougeLsum: 0.1032\n",
      "what are you talking  gogglegh as how it will probably start \n",
      "===================================\n",
      "\n"
     ]
    },
    {
     "name": "stderr",
     "output_type": "stream",
     "text": [
      "Training epoch 2: 100%|██████████| 4963/4963 [24:11<00:00,  3.42it/s]\n"
     ]
    },
    {
     "name": "stdout",
     "output_type": "stream",
     "text": [
      "Epoch: 2, training loss: 1.3397\n"
     ]
    },
    {
     "name": "stderr",
     "output_type": "stream",
     "text": [
      "Evaluating: 100%|██████████| 620/620 [00:33<00:00, 18.49it/s]\n",
      "Evaluating ROUGE: 100%|██████████| 620/620 [10:24<00:00,  1.01s/it]\n"
     ]
    },
    {
     "name": "stdout",
     "output_type": "stream",
     "text": [
      "Validation loss: 1.324023180046389\n",
      "Rouge metrics:\n",
      "rouge1: 0.1098\n",
      "rouge2: 0.0082\n",
      "rougeL: 0.1095\n",
      "rougeLsum: 0.1096\n",
      "what are you talking  on m? don't work 30!\n",
      "===================================\n",
      "\n"
     ]
    },
    {
     "name": "stderr",
     "output_type": "stream",
     "text": [
      "Training epoch 3: 100%|██████████| 4963/4963 [24:24<00:00,  3.39it/s]\n"
     ]
    },
    {
     "name": "stdout",
     "output_type": "stream",
     "text": [
      "Epoch: 3, training loss: 1.3193\n"
     ]
    },
    {
     "name": "stderr",
     "output_type": "stream",
     "text": [
      "Evaluating: 100%|██████████| 620/620 [00:33<00:00, 18.49it/s]\n",
      "Evaluating ROUGE: 100%|██████████| 620/620 [10:19<00:00,  1.00it/s]\n"
     ]
    },
    {
     "name": "stdout",
     "output_type": "stream",
     "text": [
      "Validation loss: 1.3088454013870607\n",
      "Rouge metrics:\n",
      "rouge1: 0.1108\n",
      "rouge2: 0.0086\n",
      "rougeL: 0.1107\n",
      "rougeLsum: 0.1107\n",
      "what are you talking  short orders turn in the itl? car was 1\n",
      "===================================\n",
      "\n"
     ]
    },
    {
     "name": "stderr",
     "output_type": "stream",
     "text": [
      "Training epoch 4: 100%|██████████| 4963/4963 [24:24<00:00,  3.39it/s]\n"
     ]
    },
    {
     "name": "stdout",
     "output_type": "stream",
     "text": [
      "Epoch: 4, training loss: 1.3086\n"
     ]
    },
    {
     "name": "stderr",
     "output_type": "stream",
     "text": [
      "Evaluating: 100%|██████████| 620/620 [00:33<00:00, 18.49it/s]\n",
      "Evaluating ROUGE: 100%|██████████| 620/620 [10:17<00:00,  1.00it/s]\n"
     ]
    },
    {
     "name": "stdout",
     "output_type": "stream",
     "text": [
      "Validation loss: 1.2966407623983198\n",
      "Rouge metrics:\n",
      "rouge1: 0.1140\n",
      "rouge2: 0.0090\n",
      "rougeL: 0.1138\n",
      "rougeLsum: 0.1138\n",
      "what are you talking  about?gt;\n",
      "===================================\n",
      "\n"
     ]
    },
    {
     "name": "stderr",
     "output_type": "stream",
     "text": [
      "Training epoch 5: 100%|██████████| 4963/4963 [24:14<00:00,  3.41it/s]\n"
     ]
    },
    {
     "name": "stdout",
     "output_type": "stream",
     "text": [
      "Epoch: 5, training loss: 1.3020\n"
     ]
    },
    {
     "name": "stderr",
     "output_type": "stream",
     "text": [
      "Evaluating: 100%|██████████| 620/620 [00:33<00:00, 18.55it/s]\n",
      "Evaluating ROUGE: 100%|██████████| 620/620 [10:24<00:00,  1.01s/it]\n"
     ]
    },
    {
     "name": "stdout",
     "output_type": "stream",
     "text": [
      "Validation loss: 1.2951954551281468\n",
      "Rouge metrics:\n",
      "rouge1: 0.1134\n",
      "rouge2: 0.0090\n",
      "rougeL: 0.1133\n",
      "rougeLsum: 0.1133\n",
      "what are you talking  about the lime by the tree micky now? m\n",
      "===================================\n",
      "\n"
     ]
    },
    {
     "name": "stderr",
     "output_type": "stream",
     "text": [
      "Training epoch 6: 100%|██████████| 4963/4963 [24:14<00:00,  3.41it/s]\n"
     ]
    },
    {
     "name": "stdout",
     "output_type": "stream",
     "text": [
      "Epoch: 6, training loss: 1.2800\n"
     ]
    },
    {
     "name": "stderr",
     "output_type": "stream",
     "text": [
      "Evaluating: 100%|██████████| 620/620 [00:33<00:00, 18.54it/s]\n",
      "Evaluating ROUGE: 100%|██████████| 620/620 [10:23<00:00,  1.01s/it]\n"
     ]
    },
    {
     "name": "stdout",
     "output_type": "stream",
     "text": [
      "Validation loss: 1.2724119384442607\n",
      "Rouge metrics:\n",
      "rouge1: 0.1173\n",
      "rouge2: 0.0101\n",
      "rougeL: 0.1172\n",
      "rougeLsum: 0.1172\n",
      "what are you talking  about\n",
      "===================================\n",
      "\n"
     ]
    },
    {
     "name": "stderr",
     "output_type": "stream",
     "text": [
      "Training epoch 7: 100%|██████████| 4963/4963 [24:12<00:00,  3.42it/s]\n"
     ]
    },
    {
     "name": "stdout",
     "output_type": "stream",
     "text": [
      "Epoch: 7, training loss: 1.2763\n"
     ]
    },
    {
     "name": "stderr",
     "output_type": "stream",
     "text": [
      "Evaluating: 100%|██████████| 620/620 [00:33<00:00, 18.49it/s]\n",
      "Evaluating ROUGE: 100%|██████████| 620/620 [10:11<00:00,  1.01it/s]\n"
     ]
    },
    {
     "name": "stdout",
     "output_type": "stream",
     "text": [
      "Validation loss: 1.270834070059561\n",
      "Rouge metrics:\n",
      "rouge1: 0.1173\n",
      "rouge2: 0.0100\n",
      "rougeL: 0.1172\n",
      "rougeLsum: 0.1172\n",
      "what are you talking  about? that is beer than my lile boy in\n",
      "===================================\n",
      "\n"
     ]
    },
    {
     "name": "stderr",
     "output_type": "stream",
     "text": [
      "Training epoch 8: 100%|██████████| 4963/4963 [24:24<00:00,  3.39it/s]\n"
     ]
    },
    {
     "name": "stdout",
     "output_type": "stream",
     "text": [
      "Epoch: 8, training loss: 1.2739\n"
     ]
    },
    {
     "name": "stderr",
     "output_type": "stream",
     "text": [
      "Evaluating: 100%|██████████| 620/620 [00:33<00:00, 18.50it/s]\n",
      "Evaluating ROUGE: 100%|██████████| 620/620 [10:29<00:00,  1.01s/it]\n"
     ]
    },
    {
     "name": "stdout",
     "output_type": "stream",
     "text": [
      "Validation loss: 1.2689260052096458\n",
      "Rouge metrics:\n",
      "rouge1: 0.1181\n",
      "rouge2: 0.0103\n",
      "rougeL: 0.1179\n",
      "rougeLsum: 0.1179\n",
      "what are you talking  about?\n",
      "===================================\n",
      "\n"
     ]
    },
    {
     "name": "stderr",
     "output_type": "stream",
     "text": [
      "Training epoch 9:   0%|          | 11/4963 [00:03<23:01,  3.59it/s]\n"
     ]
    },
    {
     "ename": "KeyboardInterrupt",
     "evalue": "",
     "output_type": "error",
     "traceback": [
      "\u001b[0;31m---------------------------------------------------------------------------\u001b[0m",
      "\u001b[0;31mKeyboardInterrupt\u001b[0m                         Traceback (most recent call last)",
      "Cell \u001b[0;32mIn[6], line 48\u001b[0m\n\u001b[1;32m     46\u001b[0m \u001b[38;5;66;03m# Обучаем модель в течение 20-ти эпох\u001b[39;00m\n\u001b[1;32m     47\u001b[0m \u001b[38;5;28;01mfor\u001b[39;00m epoch \u001b[38;5;129;01min\u001b[39;00m \u001b[38;5;28mrange\u001b[39m(\u001b[38;5;241m1\u001b[39m, epochs\u001b[38;5;241m+\u001b[39m\u001b[38;5;241m1\u001b[39m):\n\u001b[0;32m---> 48\u001b[0m     train_loss \u001b[38;5;241m=\u001b[39m \u001b[43mtrain_one_epoch\u001b[49m\u001b[43m(\u001b[49m\u001b[43mmodel\u001b[49m\u001b[43m,\u001b[49m\u001b[43m \u001b[49m\u001b[43mdevice\u001b[49m\u001b[43m,\u001b[49m\u001b[43m \u001b[49m\u001b[43mepoch\u001b[49m\u001b[43m,\u001b[49m\u001b[43m \u001b[49m\u001b[43mtrain_dataloader\u001b[49m\u001b[43m,\u001b[49m\u001b[43m \u001b[49m\u001b[43moptimizer\u001b[49m\u001b[43m,\u001b[49m\u001b[43m \u001b[49m\u001b[43mcriterion\u001b[49m\u001b[43m,\u001b[49m\u001b[43m \u001b[49m\u001b[43mscheduler\u001b[49m\u001b[43m)\u001b[49m\n\u001b[1;32m     49\u001b[0m     val_loss \u001b[38;5;241m=\u001b[39m evaluate_model(model, tokenizer, device, val_dataloader, val_rouge_dataloader, criterion, test_phrase\u001b[38;5;241m=\u001b[39mtest_phrase)\n\u001b[1;32m     50\u001b[0m     \u001b[38;5;28mprint\u001b[39m(\u001b[38;5;124m'\u001b[39m\u001b[38;5;124m===================================\u001b[39m\u001b[38;5;130;01m\\n\u001b[39;00m\u001b[38;5;124m'\u001b[39m)\n",
      "File \u001b[0;32m~/Project/src/model_train.py:30\u001b[0m, in \u001b[0;36mtrain_one_epoch\u001b[0;34m(model, device, epoch, train_dataloader, optimizer, criterion, scheduler)\u001b[0m\n\u001b[1;32m     28\u001b[0m logits \u001b[38;5;241m=\u001b[39m model(source)\n\u001b[1;32m     29\u001b[0m loss \u001b[38;5;241m=\u001b[39m criterion(logits\u001b[38;5;241m.\u001b[39mpermute(\u001b[38;5;241m0\u001b[39m, \u001b[38;5;241m2\u001b[39m, \u001b[38;5;241m1\u001b[39m), target)\n\u001b[0;32m---> 30\u001b[0m train_loss \u001b[38;5;241m+\u001b[39m\u001b[38;5;241m=\u001b[39m \u001b[43mloss\u001b[49m\u001b[38;5;241;43m.\u001b[39;49m\u001b[43mitem\u001b[49m\u001b[43m(\u001b[49m\u001b[43m)\u001b[49m\n\u001b[1;32m     32\u001b[0m optimizer\u001b[38;5;241m.\u001b[39mzero_grad()\n\u001b[1;32m     33\u001b[0m loss\u001b[38;5;241m.\u001b[39mbackward()\n",
      "\u001b[0;31mKeyboardInterrupt\u001b[0m: "
     ]
    }
   ],
   "source": [
    "from src.lstm_model import LSTMAutoComplete\n",
    "from src.model_train import train_one_epoch\n",
    "from src.model_eval import evaluate_model\n",
    "\n",
    "from torch.optim import Adam\n",
    "from torch.optim.lr_scheduler import StepLR\n",
    "\n",
    "import matplotlib.pyplot as plt\n",
    "\n",
    "import torch.nn as nn\n",
    "import torch\n",
    "\n",
    "import os\n",
    "\n",
    "\n",
    "device = 'cuda' if torch.cuda.is_available() else 'cpu'\n",
    "\n",
    "# Определяем модель:\n",
    "## 2 скрытых слоя\n",
    "## размерность скрытого состояния 512\n",
    "model = LSTMAutoComplete(len(tokenizer.vocab), pad_token_id=tokenizer.pad_token_id, hidden_size=512, num_layers=2)\n",
    "\n",
    "optimizer = Adam(model.parameters(), lr=0.001, weight_decay=1e-5)\n",
    "scheduler = StepLR(optimizer, 5, 0.5)\n",
    "criterion = nn.CrossEntropyLoss(ignore_index=0)\n",
    "epochs = 12\n",
    "last_epoch = epochs\n",
    "test_phrase = \"what are you talking\"\n",
    "\n",
    "# Посмотрим на валидационные метрики до обучения:\n",
    "print('=== Before training ===')\n",
    "evaluate_model(model, tokenizer, device, val_dataloader, val_rouge_dataloader, criterion, test_phrase=test_phrase)\n",
    "print('===================================\\n')\n",
    "\n",
    "train_losses = []\n",
    "val_losses = []\n",
    "best_val_loss = float('inf')\n",
    "patience = 3\n",
    "patience_counter = 0\n",
    "\n",
    "# Сюда будет сохраняться лучшая модель\n",
    "folder = 'checkpoints'\n",
    "os.makedirs(folder, exist_ok=True)\n",
    "PATH = os.path.join(folder, 'best_model.pth')\n",
    "\n",
    "# Обучаем модель в течение 20-ти эпох\n",
    "for epoch in range(1, epochs+1):\n",
    "    train_loss = train_one_epoch(model, device, epoch, train_dataloader, optimizer, criterion, scheduler)\n",
    "    val_loss = evaluate_model(model, tokenizer, device, val_dataloader, val_rouge_dataloader, criterion, test_phrase=test_phrase)\n",
    "    print('===================================\\n')\n",
    "    train_losses.append(train_loss)\n",
    "    val_losses.append(val_loss)\n",
    "    \n",
    "    if abs(val_loss - best_val_loss) < 1e-4:\n",
    "        best_val_loss = val_loss\n",
    "#       Сохраним лучшую модель\n",
    "        torch.save(model.state_dict(), PATH)        \n",
    "        patience_counter +=1\n",
    "        if patience_counter >= patience:\n",
    "            print('Early stopping triggered...')\n",
    "            last_epoch = epoch\n",
    "            break\n",
    "    else:\n",
    "        patience_counter = 0\n",
    "\n",
    "# Сохраним результаты обучения\n",
    "torch.save(model.state_dict(), PATH)\n",
    "plt.plot(list(range(1, last_epoch+1)), train_losses, color='b', label='train loss')\n",
    "plt.plot(list(range(1, last_epoch+1)), val_losses, color='g', label='val loss')\n",
    "plt.legend()\n",
    "plt.show()"
   ]
  },
  {
   "cell_type": "markdown",
   "id": "d411cfdc",
   "metadata": {},
   "source": [
    "Я была вынуждена вручную прервать обучение, так как время работы виртуальной машины ограничего, а модель обучалась дольше ожидаемого времени (так как я использовала посимвольную токенизацию, из-за этого длина каждого сэмпла в токенах увеличилась в несколько раз).\n",
    "\n",
    "Однако validation_loss уже перестала значительно уменьшаться, а метрика rouge перестала значительно расти."
   ]
  },
  {
   "cell_type": "code",
   "execution_count": 7,
   "id": "043d65d3",
   "metadata": {},
   "outputs": [
    {
     "data": {
      "image/png": "[encoded data removed]",
      "text/plain": [
       "<Figure size 640x480 with 1 Axes>"
      ]
     },
     "metadata": {},
     "output_type": "display_data"
    }
   ],
   "source": [
    "# Сохраним модель и отобразим графики значения функци потерь\n",
    "torch.save(model.state_dict(), PATH)\n",
    "plt.plot(list(range(1, 9)), train_losses, color='b', label='train loss')\n",
    "plt.plot(list(range(1, 9)), val_losses, color='g', label='val_loss')\n",
    "plt.legend()\n",
    "plt.show()"
   ]
  },
  {
   "cell_type": "code",
   "execution_count": null,
   "id": "dac78ff5",
   "metadata": {},
   "outputs": [],
   "source": []
  },
  {
   "cell_type": "code",
   "execution_count": 20,
   "id": "82709c22",
   "metadata": {},
   "outputs": [
    {
     "name": "stderr",
     "output_type": "stream",
     "text": [
      "Device set to use cuda\n"
     ]
    }
   ],
   "source": [
    "from transformers import pipeline\n",
    "\n",
    "generator = pipeline('text-generation', model='distilgpt2', batch_size=batch_size, device=device, truncation=True)\n",
    "generator.tokenizer.pad_token_id = generator.tokenizer.eos_token_id\n",
    "generator.tokenizer.padding_side = 'left'"
   ]
  },
  {
   "cell_type": "code",
   "execution_count": 23,
   "id": "003b7002",
   "metadata": {},
   "outputs": [],
   "source": [
    "from transformers.utils import logging\n",
    "\n",
    "logging.set_verbosity_error()"
   ]
  },
  {
   "cell_type": "markdown",
   "id": "a4f507b4",
   "metadata": {},
   "source": [
    "### Теперь на тестовых данных сравним работу LSTM модели и GPT2:"
   ]
  },
  {
   "cell_type": "code",
   "execution_count": 24,
   "id": "b7183022",
   "metadata": {},
   "outputs": [
    {
     "name": "stderr",
     "output_type": "stream",
     "text": [
      "Autocompleting inputs: 100%|██████████| 621/621 [19:58<00:00,  1.93s/it]\n"
     ]
    },
    {
     "name": "stdout",
     "output_type": "stream",
     "text": [
      "Rouge metrics for test (GPT2):\n",
      "rouge1: 0.0255\n",
      "rouge2: 0.0015\n",
      "rougeL: 0.0246\n",
      "rougeLsum: 0.0247\n",
      "Rouge metrics for test (LSTM-based):\n",
      "rouge1: 0.1168\n",
      "rouge2: 0.0101\n",
      "rougeL: 0.1167\n",
      "rougeLsum: 0.1167\n",
      "=== Samples ===\n",
      "Input: \"bea\"\n",
      "\tGPT2-autocomplete: \"-beige\"\n",
      "\tLSTM-autocomplete: \"ch, \"\n",
      "===================================\n",
      "\n",
      "Input: \"tha\"\n",
      "\tGPT2-autocomplete: \" a.j\"\n",
      "\tLSTM-autocomplete: \"nks \"\n",
      "===================================\n",
      "\n",
      "Input: \"gd \"\n",
      "\tGPT2-autocomplete: \"_____________________________________________________________________________\"\n",
      "\tLSTM-autocomplete: \" n\"\n",
      "===================================\n",
      "\n",
      "Input: \"hi col\"\n",
      "\tGPT2-autocomplete: \"son@gmail\"\n",
      "\tLSTM-autocomplete: \"in\"\n",
      "===================================\n",
      "\n",
      "Input: \"gdnigh\"\n",
      "\tGPT2-autocomplete: \": i love it\"\n",
      "\tLSTM-autocomplete: \"t c\"\n",
      "===================================\n",
      "\n"
     ]
    }
   ],
   "source": [
    "from src.gpt_vs_lstm_eval import evaluate_gpt_vs_lstm\n",
    "\n",
    "evaluate_gpt_vs_lstm(model, generator, tokenizer, test_dataloader, batch_size=batch_size, device=device)"
   ]
  }
 ],
 "metadata": {
  "kernelspec": {
   "display_name": ".venv",
   "language": "python",
   "name": "python3"
  },
  "language_info": {
   "codemirror_mode": {
    "name": "ipython",
    "version": 3
   },
   "file_extension": ".py",
   "mimetype": "text/x-python",
   "name": "python",
   "nbconvert_exporter": "python",
   "pygments_lexer": "ipython3",
   "version": "3.10.12"
  }
 },
 "nbformat": 4,
 "nbformat_minor": 5
}
