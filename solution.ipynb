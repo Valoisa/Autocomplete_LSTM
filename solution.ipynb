{
 "cells": [
  {
   "cell_type": "markdown",
   "id": "c02ad7bf",
   "metadata": {},
   "source": [
    "### Загружаем данные для обучения: `train_texts`, `val_texts`, `test_texts`"
   ]
  },
  {
   "cell_type": "code",
   "execution_count": 1,
   "id": "1ee18919",
   "metadata": {},
   "outputs": [
    {
     "name": "stderr",
     "output_type": "stream",
     "text": [
      "/home/ubuntu/.venv/lib/python3.10/site-packages/tqdm/auto.py:21: TqdmWarning: IProgress not found. Please update jupyter and ipywidgets. See https://ipywidgets.readthedocs.io/en/stable/user_install.html\n",
      "  from .autonotebook import tqdm as notebook_tqdm\n",
      "Downloading builder script: 6.27kB [00:00, 10.9MB/s]\n",
      "Downloading data: 100%|██████████| 81.4M/81.4M [04:09<00:00, 326kB/s] \n",
      "Generating train split: 100%|██████████| 1600000/1600000 [00:50<00:00, 31703.06 examples/s]\n",
      "Generating test split: 100%|██████████| 498/498 [00:00<00:00, 27531.18 examples/s]\n"
     ]
    },
    {
     "name": "stdout",
     "output_type": "stream",
     "text": [
      "1600000\n"
     ]
    }
   ],
   "source": [
    "from datasets import load_dataset\n",
    "\n",
    "from sklearn.model_selection import train_test_split\n",
    "\n",
    "from os.path import isfile\n",
    "\n",
    "from src.data_utils import clean_text\n",
    "\n",
    "import pandas as pd\n",
    "\n",
    "import os\n",
    "\n",
    "\n",
    "train_texts, val_texts, test_texts = None, None, None\n",
    "foldername = 'data'\n",
    "raw_dataset_filepath = os.path.join(foldername, 'raw_dataset.csv')\n",
    "processed_dataset_filepath = os.path.join(foldername, 'processed_dataset.csv')\n",
    "train_filepath = os.path.join(foldername, 'train.csv')\n",
    "val_filepath = os.path.join(foldername, 'val.csv')\n",
    "test_filepath = os.path.join(foldername, 'test.csv')\n",
    "text_column = 'text'\n",
    "\n",
    "# Если такие файлы уже есть, загружаем данные для обучения из них\n",
    "if isfile(train_filepath) and isfile(val_filepath) and isfile(test_filepath):\n",
    "    train_texts = pd.read_csv(train_filepath).dropna()[text_column].to_list()\n",
    "    val_texts = pd.read_csv(val_filepath).dropna()[text_column].to_list()\n",
    "    test_texts = pd.read_csv(test_filepath).dropna()[text_column].to_list()\n",
    "# В противном случае скачиваем датасет, обрабатываем, делим его на выборки и сохраняем\n",
    "else:\n",
    "    dataset = load_dataset('sentiment140', trust_remote_code=True, split='train', cache_dir='data')['text']\n",
    "    dataset_df = pd.DataFrame({ text_column: dataset })\n",
    "    dataset_df.to_csv(raw_dataset_filepath, index=False)\n",
    "\n",
    "    texts = list(map(clean_text, dataset))\n",
    "    print(len(texts))\n",
    "    texts_df = pd.DataFrame({ text_column: texts })\n",
    "    texts_df.to_csv(processed_dataset_filepath, index=False)\n",
    "\n",
    "    val_test = 0.2\n",
    "    test = 0.5\n",
    "    train_texts, val_test_texts = train_test_split(texts, test_size=val_test, random_state=42)\n",
    "    val_texts, test_texts = train_test_split(val_test_texts, test_size=test)\n",
    "\n",
    "    train_df = pd.DataFrame({ text_column: train_texts })\n",
    "    train_df.to_csv(train_filepath, index=False)\n",
    "\n",
    "    test_df = pd.DataFrame({ text_column: test_texts })\n",
    "    test_df.to_csv(test_filepath, index=False)\n",
    "\n",
    "    val_df = pd.DataFrame({ text_column: val_texts })\n",
    "    val_df.to_csv(val_filepath, index=False)"
   ]
  },
  {
   "cell_type": "markdown",
   "id": "ccbb5463",
   "metadata": {},
   "source": [
    "### Из полученных данных формируем датасеты:"
   ]
  },
  {
   "cell_type": "code",
   "execution_count": 2,
   "id": "1eec5cc5",
   "metadata": {},
   "outputs": [
    {
     "name": "stdout",
     "output_type": "stream",
     "text": [
      "EOS token added: [EOS] 30522\n"
     ]
    }
   ],
   "source": [
    "from transformers import BertTokenizerFast\n",
    "\n",
    "from torch.utils.data import DataLoader\n",
    "\n",
    "from src.next_token_dataset import NextTokenDataset, EvalROUGEDataset, collate_fn, collate_fn_rouge_ds\n",
    "\n",
    "\n",
    "tokenizer = BertTokenizerFast.from_pretrained(\"bert-base-uncased\")\n",
    "# Добавим в токенайзер признак конца строки\n",
    "tokenizer.add_special_tokens({'eos_token': '[EOS]'})\n",
    "print('EOS token added:', tokenizer.eos_token, tokenizer.eos_token_id)\n",
    "\n",
    "batch_size = 256\n",
    "\n",
    "train_dataset = NextTokenDataset(train_texts, tokenizer)\n",
    "train_dataloader = DataLoader(train_dataset, batch_size=batch_size, shuffle=True, collate_fn=collate_fn)\n",
    "\n",
    "val_dataset = NextTokenDataset(val_texts, tokenizer)\n",
    "val_dataloader = DataLoader(val_dataset, batch_size=batch_size, collate_fn=collate_fn)\n",
    "\n",
    "# Датасет для вычисления метрик ROUGE на валидационных данных\n",
    "val_rouge_dataset = EvalROUGEDataset(val_texts, tokenizer)\n",
    "val_rouge_dataloader = DataLoader(val_rouge_dataset, batch_size=batch_size, collate_fn=collate_fn_rouge_ds)\n",
    "\n",
    "test_dataset = EvalROUGEDataset(test_texts, tokenizer)\n",
    "test_dataloader = DataLoader(test_dataset, batch_size=batch_size, collate_fn=collate_fn_rouge_ds)"
   ]
  },
  {
   "cell_type": "markdown",
   "id": "e6d53559",
   "metadata": {},
   "source": [
    "### Обучаем модель:"
   ]
  },
  {
   "cell_type": "code",
   "execution_count": 3,
   "id": "2af37335",
   "metadata": {},
   "outputs": [
    {
     "name": "stderr",
     "output_type": "stream",
     "text": [
      "huggingface/tokenizers: The current process just got forked, after parallelism has already been used. Disabling parallelism to avoid deadlocks...\n",
      "To disable this warning, you can either:\n",
      "\t- Avoid using `tokenizers` before the fork if possible\n",
      "\t- Explicitly set the environment variable TOKENIZERS_PARALLELISM=(true | false)\n",
      "huggingface/tokenizers: The current process just got forked, after parallelism has already been used. Disabling parallelism to avoid deadlocks...\n",
      "To disable this warning, you can either:\n",
      "\t- Avoid using `tokenizers` before the fork if possible\n",
      "\t- Explicitly set the environment variable TOKENIZERS_PARALLELISM=(true | false)\n",
      "huggingface/tokenizers: The current process just got forked, after parallelism has already been used. Disabling parallelism to avoid deadlocks...\n",
      "To disable this warning, you can either:\n",
      "\t- Avoid using `tokenizers` before the fork if possible\n",
      "\t- Explicitly set the environment variable TOKENIZERS_PARALLELISM=(true | false)\n"
     ]
    },
    {
     "name": "stdout",
     "output_type": "stream",
     "text": [
      "=== Before training ===\n"
     ]
    },
    {
     "name": "stderr",
     "output_type": "stream",
     "text": [
      "huggingface/tokenizers: The current process just got forked, after parallelism has already been used. Disabling parallelism to avoid deadlocks...\n",
      "To disable this warning, you can either:\n",
      "\t- Avoid using `tokenizers` before the fork if possible\n",
      "\t- Explicitly set the environment variable TOKENIZERS_PARALLELISM=(true | false)\n",
      "Evaluating: 100%|██████████| 515/515 [00:41<00:00, 12.47it/s]\n",
      "Evaluating ROUGE: 100%|██████████| 515/515 [03:05<00:00,  2.78it/s]\n"
     ]
    },
    {
     "name": "stdout",
     "output_type": "stream",
     "text": [
      "Validation loss: 10.32622881954156\n",
      "Rouge metrics:\n",
      "rouge1: 0.0000\n",
      "rouge2: 0.0000\n",
      "rougeL: 0.0000\n",
      "rougeLsum: 0.0000\n",
      "what are you talking inspector場 browning thinkers 1971 violet catalogue hamilton thus wandpoo ethical tempslusion ष [unused657]\n",
      "===================================\n",
      "\n"
     ]
    },
    {
     "name": "stderr",
     "output_type": "stream",
     "text": [
      "Training epoch 1: 100%|██████████| 4114/4114 [13:14<00:00,  5.18it/s]\n"
     ]
    },
    {
     "name": "stdout",
     "output_type": "stream",
     "text": [
      "Epoch: 1, training loss: 6.5012\n"
     ]
    },
    {
     "name": "stderr",
     "output_type": "stream",
     "text": [
      "Evaluating: 100%|██████████| 515/515 [00:43<00:00, 11.80it/s]\n",
      "Evaluating ROUGE: 100%|██████████| 515/515 [02:20<00:00,  3.66it/s]\n"
     ]
    },
    {
     "name": "stdout",
     "output_type": "stream",
     "text": [
      "Validation loss: 5.718751048115851\n",
      "Rouge metrics:\n",
      "rouge1: 0.0010\n",
      "rouge2: 0.0000\n",
      "rougeL: 0.0010\n",
      "rougeLsum: 0.0010\n",
      "what are you talking ive be just g do all my gym who isnt as f\n",
      "===================================\n",
      "\n"
     ]
    },
    {
     "name": "stderr",
     "output_type": "stream",
     "text": [
      "Training epoch 2: 100%|██████████| 4114/4114 [13:17<00:00,  5.16it/s]\n"
     ]
    },
    {
     "name": "stdout",
     "output_type": "stream",
     "text": [
      "Epoch: 2, training loss: 5.5142\n"
     ]
    },
    {
     "name": "stderr",
     "output_type": "stream",
     "text": [
      "Evaluating: 100%|██████████| 515/515 [00:43<00:00, 11.87it/s]\n",
      "Evaluating ROUGE: 100%|██████████| 515/515 [02:13<00:00,  3.86it/s]\n"
     ]
    },
    {
     "name": "stdout",
     "output_type": "stream",
     "text": [
      "Validation loss: 5.31607094922112\n",
      "Rouge metrics:\n",
      "rouge1: 0.0009\n",
      "rouge2: 0.0000\n",
      "rougeL: 0.0009\n",
      "rougeLsum: 0.0009\n",
      "what are you talking what if you been on it and ld me me\n",
      "===================================\n",
      "\n"
     ]
    },
    {
     "name": "stderr",
     "output_type": "stream",
     "text": [
      "Training epoch 3: 100%|██████████| 4114/4114 [13:20<00:00,  5.14it/s]\n"
     ]
    },
    {
     "name": "stdout",
     "output_type": "stream",
     "text": [
      "Epoch: 3, training loss: 5.2735\n"
     ]
    },
    {
     "name": "stderr",
     "output_type": "stream",
     "text": [
      "Evaluating: 100%|██████████| 515/515 [00:43<00:00, 11.81it/s]\n",
      "Evaluating ROUGE: 100%|██████████| 515/515 [02:10<00:00,  3.93it/s]\n"
     ]
    },
    {
     "name": "stdout",
     "output_type": "stream",
     "text": [
      "Validation loss: 5.163194472118489\n",
      "Rouge metrics:\n",
      "rouge1: 0.0008\n",
      "rouge2: 0.0000\n",
      "rougeL: 0.0008\n",
      "rougeLsum: 0.0008\n",
      "what are you talking about the fly blog free use march lt3\n",
      "===================================\n",
      "\n"
     ]
    },
    {
     "name": "stderr",
     "output_type": "stream",
     "text": [
      "Training epoch 4: 100%|██████████| 4114/4114 [13:17<00:00,  5.16it/s]\n"
     ]
    },
    {
     "name": "stdout",
     "output_type": "stream",
     "text": [
      "Epoch: 4, training loss: 5.1601\n"
     ]
    },
    {
     "name": "stderr",
     "output_type": "stream",
     "text": [
      "Evaluating: 100%|██████████| 515/515 [00:43<00:00, 11.84it/s]\n",
      "Evaluating ROUGE: 100%|██████████| 515/515 [02:13<00:00,  3.86it/s]\n"
     ]
    },
    {
     "name": "stdout",
     "output_type": "stream",
     "text": [
      "Validation loss: 5.077480015245456\n",
      "Rouge metrics:\n",
      "rouge1: 0.0008\n",
      "rouge2: 0.0000\n",
      "rougeL: 0.0008\n",
      "rougeLsum: 0.0008\n",
      "what are you talking about how far i dont have hope you want a vm s much\n",
      "===================================\n",
      "\n"
     ]
    },
    {
     "name": "stderr",
     "output_type": "stream",
     "text": [
      "Training epoch 5: 100%|██████████| 4114/4114 [13:18<00:00,  5.15it/s]\n"
     ]
    },
    {
     "name": "stdout",
     "output_type": "stream",
     "text": [
      "Epoch: 5, training loss: 5.0922\n"
     ]
    },
    {
     "name": "stderr",
     "output_type": "stream",
     "text": [
      "Evaluating: 100%|██████████| 515/515 [00:43<00:00, 11.82it/s]\n",
      "Evaluating ROUGE: 100%|██████████| 515/515 [02:14<00:00,  3.83it/s]\n"
     ]
    },
    {
     "name": "stdout",
     "output_type": "stream",
     "text": [
      "Validation loss: 5.023911477987049\n",
      "Rouge metrics:\n",
      "rouge1: 0.0008\n",
      "rouge2: 0.0000\n",
      "rougeL: 0.0008\n",
      "rougeLsum: 0.0008\n",
      "what are you talking about you guys are wiing up even though im n ready hold of that class\n",
      "===================================\n",
      "\n"
     ]
    },
    {
     "name": "stderr",
     "output_type": "stream",
     "text": [
      "Training epoch 6: 100%|██████████| 4114/4114 [13:18<00:00,  5.15it/s]\n"
     ]
    },
    {
     "name": "stdout",
     "output_type": "stream",
     "text": [
      "Epoch: 6, training loss: 5.0301\n"
     ]
    },
    {
     "name": "stderr",
     "output_type": "stream",
     "text": [
      "Evaluating: 100%|██████████| 515/515 [00:43<00:00, 11.83it/s]\n",
      "Evaluating ROUGE: 100%|██████████| 515/515 [02:15<00:00,  3.79it/s]\n"
     ]
    },
    {
     "name": "stdout",
     "output_type": "stream",
     "text": [
      "Validation loss: 4.9817825419231525\n",
      "Rouge metrics:\n",
      "rouge1: 0.0009\n",
      "rouge2: 0.0000\n",
      "rougeL: 0.0009\n",
      "rougeLsum: 0.0009\n",
      "what are you talking about watching you\n",
      "===================================\n",
      "\n"
     ]
    },
    {
     "name": "stderr",
     "output_type": "stream",
     "text": [
      "Training epoch 7: 100%|██████████| 4114/4114 [13:20<00:00,  5.14it/s]\n"
     ]
    },
    {
     "name": "stdout",
     "output_type": "stream",
     "text": [
      "Epoch: 7, training loss: 5.0073\n"
     ]
    },
    {
     "name": "stderr",
     "output_type": "stream",
     "text": [
      "Evaluating: 100%|██████████| 515/515 [00:43<00:00, 11.85it/s]\n",
      "Evaluating ROUGE: 100%|██████████| 515/515 [02:17<00:00,  3.76it/s]\n"
     ]
    },
    {
     "name": "stdout",
     "output_type": "stream",
     "text": [
      "Validation loss: 4.965153240463109\n",
      "Rouge metrics:\n",
      "rouge1: 0.0009\n",
      "rouge2: 0.0000\n",
      "rougeL: 0.0009\n",
      "rougeLsum: 0.0009\n",
      "what are you talking about do that had lk rubbing vs manchester there will be a chance\n",
      "===================================\n",
      "\n"
     ]
    },
    {
     "name": "stderr",
     "output_type": "stream",
     "text": [
      "Training epoch 8: 100%|██████████| 4114/4114 [13:18<00:00,  5.15it/s]\n"
     ]
    },
    {
     "name": "stdout",
     "output_type": "stream",
     "text": [
      "Epoch: 8, training loss: 4.9900\n"
     ]
    },
    {
     "name": "stderr",
     "output_type": "stream",
     "text": [
      "Evaluating: 100%|██████████| 515/515 [00:43<00:00, 11.82it/s]\n",
      "Evaluating ROUGE: 100%|██████████| 515/515 [02:21<00:00,  3.64it/s]\n"
     ]
    },
    {
     "name": "stdout",
     "output_type": "stream",
     "text": [
      "Validation loss: 4.950162963496829\n",
      "Rouge metrics:\n",
      "rouge1: 0.0009\n",
      "rouge2: 0.0000\n",
      "rougeL: 0.0009\n",
      "rougeLsum: 0.0009\n",
      "what are you talking about i promise some more came分 had and click some all date and thats\n",
      "===================================\n",
      "\n"
     ]
    },
    {
     "name": "stderr",
     "output_type": "stream",
     "text": [
      "Training epoch 9: 100%|██████████| 4114/4114 [13:18<00:00,  5.15it/s]\n"
     ]
    },
    {
     "name": "stdout",
     "output_type": "stream",
     "text": [
      "Epoch: 9, training loss: 4.9754\n"
     ]
    },
    {
     "name": "stderr",
     "output_type": "stream",
     "text": [
      "Evaluating: 100%|██████████| 515/515 [00:43<00:00, 11.79it/s]\n",
      "Evaluating ROUGE: 100%|██████████| 515/515 [02:14<00:00,  3.82it/s]\n"
     ]
    },
    {
     "name": "stdout",
     "output_type": "stream",
     "text": [
      "Validation loss: 4.93782458629423\n",
      "Rouge metrics:\n",
      "rouge1: 0.0009\n",
      "rouge2: 0.0000\n",
      "rougeL: 0.0009\n",
      "rougeLsum: 0.0009\n",
      "what are you talking ibriz makes a lile more an 禾 game pill thx super frustrated\n",
      "===================================\n",
      "\n"
     ]
    },
    {
     "name": "stderr",
     "output_type": "stream",
     "text": [
      "Training epoch 10: 100%|██████████| 4114/4114 [13:19<00:00,  5.14it/s]\n"
     ]
    },
    {
     "name": "stdout",
     "output_type": "stream",
     "text": [
      "Epoch: 10, training loss: 4.9622\n"
     ]
    },
    {
     "name": "stderr",
     "output_type": "stream",
     "text": [
      "Evaluating: 100%|██████████| 515/515 [00:43<00:00, 11.83it/s]\n",
      "Evaluating ROUGE: 100%|██████████| 515/515 [02:12<00:00,  3.88it/s]\n"
     ]
    },
    {
     "name": "stdout",
     "output_type": "stream",
     "text": [
      "Validation loss: 4.927394385476714\n",
      "Rouge metrics:\n",
      "rouge1: 0.0008\n",
      "rouge2: 0.0000\n",
      "rougeL: 0.0008\n",
      "rougeLsum: 0.0008\n",
      "what are you talking with jeffmy eyecake will add loucor at the shop n gracies the\n",
      "===================================\n",
      "\n"
     ]
    },
    {
     "name": "stderr",
     "output_type": "stream",
     "text": [
      "Training epoch 11: 100%|██████████| 4114/4114 [13:18<00:00,  5.15it/s]\n"
     ]
    },
    {
     "name": "stdout",
     "output_type": "stream",
     "text": [
      "Epoch: 11, training loss: 4.9360\n"
     ]
    },
    {
     "name": "stderr",
     "output_type": "stream",
     "text": [
      "Evaluating: 100%|██████████| 515/515 [00:43<00:00, 11.82it/s]\n",
      "Evaluating ROUGE: 100%|██████████| 515/515 [02:19<00:00,  3.68it/s]\n"
     ]
    },
    {
     "name": "stdout",
     "output_type": "stream",
     "text": [
      "Validation loss: 4.911077143845049\n",
      "Rouge metrics:\n",
      "rouge1: 0.0009\n",
      "rouge2: 0.0000\n",
      "rougeL: 0.0009\n",
      "rougeLsum: 0.0009\n",
      "what are you talking about your bld lizs logo is inspired i am sad that this sucks how\n",
      "===================================\n",
      "\n"
     ]
    },
    {
     "name": "stderr",
     "output_type": "stream",
     "text": [
      "Training epoch 12: 100%|██████████| 4114/4114 [13:18<00:00,  5.15it/s]\n"
     ]
    },
    {
     "name": "stdout",
     "output_type": "stream",
     "text": [
      "Epoch: 12, training loss: 4.9284\n"
     ]
    },
    {
     "name": "stderr",
     "output_type": "stream",
     "text": [
      "Evaluating: 100%|██████████| 515/515 [00:43<00:00, 11.81it/s]\n",
      "Evaluating ROUGE: 100%|██████████| 515/515 [02:17<00:00,  3.75it/s]\n"
     ]
    },
    {
     "name": "stdout",
     "output_type": "stream",
     "text": [
      "Validation loss: 4.905115088675786\n",
      "Rouge metrics:\n",
      "rouge1: 0.0008\n",
      "rouge2: 0.0000\n",
      "rougeL: 0.0008\n",
      "rougeLsum: 0.0008\n",
      "what are you talking about god for southern schl cant wait see you in all again\n",
      "===================================\n",
      "\n"
     ]
    },
    {
     "name": "stderr",
     "output_type": "stream",
     "text": [
      "Training epoch 13: 100%|██████████| 4114/4114 [13:15<00:00,  5.17it/s]\n"
     ]
    },
    {
     "name": "stdout",
     "output_type": "stream",
     "text": [
      "Epoch: 13, training loss: 4.9226\n"
     ]
    },
    {
     "name": "stderr",
     "output_type": "stream",
     "text": [
      "Evaluating: 100%|██████████| 515/515 [00:43<00:00, 11.84it/s]\n",
      "Evaluating ROUGE: 100%|██████████| 515/515 [02:13<00:00,  3.84it/s]\n"
     ]
    },
    {
     "name": "stdout",
     "output_type": "stream",
     "text": [
      "Validation loss: 4.900909591415553\n",
      "Rouge metrics:\n",
      "rouge1: 0.0008\n",
      "rouge2: 0.0000\n",
      "rougeL: 0.0008\n",
      "rougeLsum: 0.0008\n",
      "what are you talking about your jimmiee\n",
      "===================================\n",
      "\n"
     ]
    },
    {
     "name": "stderr",
     "output_type": "stream",
     "text": [
      "Training epoch 14: 100%|██████████| 4114/4114 [13:17<00:00,  5.16it/s]\n"
     ]
    },
    {
     "name": "stdout",
     "output_type": "stream",
     "text": [
      "Epoch: 14, training loss: 4.9172\n"
     ]
    },
    {
     "name": "stderr",
     "output_type": "stream",
     "text": [
      "Evaluating: 100%|██████████| 515/515 [00:43<00:00, 11.83it/s]\n",
      "Evaluating ROUGE: 100%|██████████| 515/515 [02:15<00:00,  3.81it/s]\n"
     ]
    },
    {
     "name": "stdout",
     "output_type": "stream",
     "text": [
      "Validation loss: 4.89637354508187\n",
      "Rouge metrics:\n",
      "rouge1: 0.0008\n",
      "rouge2: 0.0000\n",
      "rougeL: 0.0008\n",
      "rougeLsum: 0.0008\n",
      "what are you talking and those gorgeous my thoughts are beautiful\n",
      "===================================\n",
      "\n"
     ]
    },
    {
     "name": "stderr",
     "output_type": "stream",
     "text": [
      "Training epoch 15: 100%|██████████| 4114/4114 [13:15<00:00,  5.17it/s]\n"
     ]
    },
    {
     "name": "stdout",
     "output_type": "stream",
     "text": [
      "Epoch: 15, training loss: 4.9125\n"
     ]
    },
    {
     "name": "stderr",
     "output_type": "stream",
     "text": [
      "Evaluating: 100%|██████████| 515/515 [00:43<00:00, 11.80it/s]\n",
      "Evaluating ROUGE: 100%|██████████| 515/515 [02:18<00:00,  3.73it/s]\n"
     ]
    },
    {
     "name": "stdout",
     "output_type": "stream",
     "text": [
      "Validation loss: 4.892297306801509\n",
      "Rouge metrics:\n",
      "rouge1: 0.0009\n",
      "rouge2: 0.0000\n",
      "rougeL: 0.0009\n",
      "rougeLsum: 0.0009\n",
      "what are you talking about your boys for your wormromat courtesy of the salad i love night willing\n",
      "===================================\n",
      "\n"
     ]
    },
    {
     "data": {
      "image/png": "[encoded data removed]",
      "text/plain": [
       "<Figure size 640x480 with 1 Axes>"
      ]
     },
     "metadata": {},
     "output_type": "display_data"
    }
   ],
   "source": [
    "from src.lstm_model import LSTMAutoComplete\n",
    "from src.model_train import train_one_epoch\n",
    "from src.model_eval import evaluate_model\n",
    "\n",
    "from torch.optim import Adam\n",
    "from torch.optim.lr_scheduler import StepLR\n",
    "\n",
    "import matplotlib.pyplot as plt\n",
    "\n",
    "import torch.nn as nn\n",
    "import torch\n",
    "\n",
    "import os\n",
    "\n",
    "\n",
    "device = 'cuda' if torch.cuda.is_available() else 'cpu'\n",
    "\n",
    "# Определяем модель:\n",
    "## 2 скрытых слоя\n",
    "## размерность скрытого состояния 128\n",
    "model = LSTMAutoComplete(len(tokenizer.get_vocab()), hidden_size=128, num_layers=2)\n",
    "\n",
    "optimizer = Adam(model.parameters(), lr=0.001, weight_decay=1e-5)\n",
    "scheduler = StepLR(optimizer, 5, 0.5)\n",
    "criterion = nn.CrossEntropyLoss(ignore_index=0)\n",
    "epochs = 15\n",
    "last_epoch = epochs\n",
    "test_phrase = \"what are you talking\"\n",
    "\n",
    "# Посмотрим на валидационные метрики до обучения:\n",
    "print('=== Before training ===')\n",
    "evaluate_model(model, tokenizer, device, val_dataloader, val_rouge_dataloader, criterion, test_phrase=test_phrase)\n",
    "print('===================================\\n')\n",
    "\n",
    "train_losses = []\n",
    "val_losses = []\n",
    "best_val_loss = float('inf')\n",
    "patience = 3\n",
    "patience_counter = 0\n",
    "\n",
    "# Сюда будет сохраняться лучшая модель\n",
    "folder = 'checkpoints'\n",
    "os.makedirs(folder, exist_ok=True)\n",
    "PATH = os.path.join(folder, 'best_model.pth')\n",
    "\n",
    "# Обучаем модель в течение 20-ти эпох\n",
    "for epoch in range(1, epochs+1):\n",
    "    train_loss = train_one_epoch(model, device, epoch, train_dataloader, optimizer, criterion, scheduler)\n",
    "    val_loss = evaluate_model(model, tokenizer, device, val_dataloader, val_rouge_dataloader, criterion, test_phrase=test_phrase)\n",
    "    print('===================================\\n')\n",
    "    train_losses.append(train_loss)\n",
    "    val_losses.append(val_loss)\n",
    "    \n",
    "    if abs(val_loss - best_val_loss) < 1e-4:\n",
    "        best_val_loss = val_loss\n",
    "#       Сохраним лучшую модель\n",
    "        torch.save(model.state_dict, PATH)        \n",
    "        patience_counter +=1\n",
    "        if patience_counter >= patience:\n",
    "            print('Early stopping triggered...')\n",
    "            last_epoch = epoch\n",
    "            break\n",
    "    else:\n",
    "        patience_counter = 0\n",
    "\n",
    "# Сохраним результаты обучения\n",
    "torch.save(model.state_dict, PATH)\n",
    "plt.plot(list(range(1, last_epoch+1)), train_losses, color='b')\n",
    "plt.plot(list(range(1, last_epoch+1)), val_losses, color='g')\n",
    "plt.show()"
   ]
  },
  {
   "cell_type": "markdown",
   "id": "a4f507b4",
   "metadata": {},
   "source": [
    "### Теперь на тестовых данных сравним работу LSTM модели и GPT2:"
   ]
  },
  {
   "cell_type": "code",
   "execution_count": 4,
   "id": "b7183022",
   "metadata": {},
   "outputs": [
    {
     "name": "stderr",
     "output_type": "stream",
     "text": [
      "Device set to use cuda\n",
      "Autocompleting inputs:   2%|▏         | 10/515 [00:11<09:15,  1.10s/it]You seem to be using the pipelines sequentially on GPU. In order to maximize efficiency please use a dataset\n",
      "Autocompleting inputs: 100%|██████████| 515/515 [09:04<00:00,  1.06s/it]\n"
     ]
    },
    {
     "name": "stdout",
     "output_type": "stream",
     "text": [
      "Rouge metrics for test (GPT2):\n",
      "rouge1: 0.0441\n",
      "rouge2: 0.0029\n",
      "rougeL: 0.0430\n",
      "rougeLsum: 0.0431\n",
      "Rouge metrics for test (LSTM-based):\n",
      "rouge1: 0.0025\n",
      "rouge2: 0.0001\n",
      "rougeL: 0.0024\n",
      "rougeLsum: 0.0024\n",
      "=== Samples ===\n",
      "Input: \"i hope we can fix you\"\n",
      "\tGPT2-autocomplete: \" for the next weekend and we'll need to work on that\"\n",
      "\tLSTM-autocomplete: \"\"\n",
      "===================================\n",
      "\n",
      "Input: \"thanks lks like he may n race again 2 broken femurs 1 broken tibia\"\n",
      "\tGPT2-autocomplete: \" 1 broken femur 1 broken femur 1 broken femur 1 broken femur 2 broken\"\n",
      "\tLSTM-autocomplete: \"\"\n",
      "===================================\n",
      "\n",
      "Input: \"i left home without a cell phone but remembered my computer hey tweet me dont\"\n",
      "\tGPT2-autocomplete: \" remember. the thing i never used was my cellphone. lol. i thought\"\n",
      "\tLSTM-autocomplete: \"\"\n",
      "===================================\n",
      "\n",
      "Input: \"y im n in your about\"\n",
      "\tGPT2-autocomplete: \" the other guy you are at, your real life.\n",
      "\n",
      "\n",
      "\"\n",
      "\tLSTM-autocomplete: \"\"\n",
      "===================================\n",
      "\n",
      "Input: \"this painting later vanished from my\"\n",
      "\tGPT2-autocomplete: \" collection. if you've ever wanted to go back to the painting\"\n",
      "\tLSTM-autocomplete: \"\"\n",
      "===================================\n",
      "\n"
     ]
    }
   ],
   "source": [
    "from src.gpt_vs_lstm_eval import evaluate_gpt_vs_lstm\n",
    "\n",
    "evaluate_gpt_vs_lstm(model, tokenizer, test_dataloader, device=device)"
   ]
  }
 ],
 "metadata": {
  "kernelspec": {
   "display_name": ".venv",
   "language": "python",
   "name": "python3"
  },
  "language_info": {
   "codemirror_mode": {
    "name": "ipython",
    "version": 3
   },
   "file_extension": ".py",
   "mimetype": "text/x-python",
   "name": "python",
   "nbconvert_exporter": "python",
   "pygments_lexer": "ipython3",
   "version": "3.10.12"
  }
 },
 "nbformat": 4,
 "nbformat_minor": 5
}
