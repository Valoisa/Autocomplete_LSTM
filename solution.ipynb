{
 "cells": [
  {
   "cell_type": "markdown",
   "id": "c02ad7bf",
   "metadata": {},
   "source": [
    "### Загружаем данные для обучения: `train_texts`, `val_texts`, `test_texts`"
   ]
  },
  {
   "cell_type": "code",
   "execution_count": 1,
   "id": "1ee18919",
   "metadata": {},
   "outputs": [
    {
     "name": "stderr",
     "output_type": "stream",
     "text": [
      "/home/ubuntu/.venv/lib/python3.10/site-packages/tqdm/auto.py:21: TqdmWarning: IProgress not found. Please update jupyter and ipywidgets. See https://ipywidgets.readthedocs.io/en/stable/user_install.html\n",
      "  from .autonotebook import tqdm as notebook_tqdm\n",
      "Downloading builder script: 6.27kB [00:00, 9.94MB/s]\n",
      "Downloading data: 100%|██████████| 81.4M/81.4M [00:06<00:00, 13.4MB/s]\n",
      "Generating train split: 100%|██████████| 1600000/1600000 [00:52<00:00, 30293.95 examples/s]\n",
      "Generating test split: 100%|██████████| 498/498 [00:00<00:00, 25995.16 examples/s]\n"
     ]
    },
    {
     "name": "stdout",
     "output_type": "stream",
     "text": [
      "1600000\n"
     ]
    }
   ],
   "source": [
    "from datasets import load_dataset\n",
    "\n",
    "from sklearn.model_selection import train_test_split\n",
    "\n",
    "from os.path import isfile\n",
    "\n",
    "from src.data_utils import clean_text\n",
    "\n",
    "import pandas as pd\n",
    "\n",
    "import numpy as np\n",
    "\n",
    "import os\n",
    "\n",
    "\n",
    "train_texts, val_texts, test_texts = None, None, None\n",
    "foldername = 'data'\n",
    "raw_dataset_filepath = os.path.join(foldername, 'raw_dataset.csv')\n",
    "processed_dataset_filepath = os.path.join(foldername, 'processed_dataset.csv')\n",
    "train_filepath = os.path.join(foldername, 'train.csv')\n",
    "val_filepath = os.path.join(foldername, 'val.csv')\n",
    "test_filepath = os.path.join(foldername, 'test.csv')\n",
    "text_column = 'text'\n",
    "\n",
    "# Если такие файлы уже есть, загружаем данные для обучения из них\n",
    "if isfile(train_filepath) and isfile(val_filepath) and isfile(test_filepath):\n",
    "    train_texts = pd.read_csv(train_filepath).dropna()[text_column].to_list()\n",
    "    val_texts = pd.read_csv(val_filepath).dropna()[text_column].to_list()\n",
    "    test_texts = pd.read_csv(test_filepath).dropna()[text_column].to_list()\n",
    "# В противном случае скачиваем датасет, обрабатываем, делим его на выборки и сохраняем\n",
    "else:\n",
    "    dataset = load_dataset('sentiment140', trust_remote_code=True, split='train', cache_dir='data')['text']\n",
    "    dataset_df = pd.DataFrame({ text_column: dataset })\n",
    "    dataset_df.to_csv(raw_dataset_filepath, index=False)\n",
    "\n",
    "    texts = list(map(clean_text, dataset))\n",
    "    print(len(texts))\n",
    "    texts_df = pd.DataFrame({ text_column: texts })\n",
    "    texts_df.to_csv(processed_dataset_filepath, index=False)\n",
    "\n",
    "    val_test = 0.2\n",
    "    test = 0.5\n",
    "    train_texts, val_test_texts = train_test_split(texts, test_size=val_test, random_state=42)\n",
    "    val_texts, test_texts = train_test_split(val_test_texts, test_size=test)\n",
    "\n",
    "    train_df = pd.DataFrame({ text_column: train_texts })\n",
    "    train_df.to_csv(train_filepath, index=False)\n",
    "\n",
    "    test_df = pd.DataFrame({ text_column: test_texts })\n",
    "    test_df.to_csv(test_filepath, index=False)\n",
    "\n",
    "    val_df = pd.DataFrame({ text_column: val_texts })\n",
    "    val_df.to_csv(val_filepath, index=False)"
   ]
  },
  {
   "cell_type": "markdown",
   "id": "ccbb5463",
   "metadata": {},
   "source": [
    "### Из полученных данных формируем датасеты"
   ]
  },
  {
   "cell_type": "markdown",
   "id": "83bfa0f6",
   "metadata": {},
   "source": [
    "Я использовала посимвольную токенизацию, так как она, на мой взгляд, лучше подходит для LSTM автодополнений, чем разбиение на подслова, как в bert-base-uncased."
   ]
  },
  {
   "cell_type": "code",
   "execution_count": 2,
   "id": "1eec5cc5",
   "metadata": {},
   "outputs": [],
   "source": [
    "from torch.utils.data import DataLoader\n",
    "\n",
    "from src.next_token_dataset import NextTokenDataset, EvalROUGEDataset, collate_fn, collate_fn_rouge_ds\n",
    "from src.char_tokenizer import CharTokenizer\n",
    "\n",
    "\n",
    "tokenizer = CharTokenizer()\n",
    "\n",
    "batch_size = 256\n",
    "\n",
    "sorted_ids = np.argsort([len(text) for text in train_texts])\n",
    "train_texts = np.array(train_texts)[sorted_ids]\n",
    "train_dataset = NextTokenDataset(train_texts, tokenizer)\n",
    "train_dataloader = DataLoader(train_dataset, batch_size=batch_size, shuffle=True, collate_fn=collate_fn)\n",
    "\n",
    "sorted_ids = np.argsort([len(text) for text in val_texts])\n",
    "val_texts = np.array(val_texts)[sorted_ids]\n",
    "val_dataset = NextTokenDataset(val_texts, tokenizer)\n",
    "val_dataloader = DataLoader(val_dataset, batch_size=batch_size, collate_fn=collate_fn)\n",
    "\n",
    "# Датасет для вычисления метрик ROUGE на валидационных данных\n",
    "val_rouge_dataset = EvalROUGEDataset(val_texts, tokenizer)\n",
    "val_rouge_dataloader = DataLoader(val_rouge_dataset, batch_size=batch_size, collate_fn=collate_fn_rouge_ds)\n",
    "\n",
    "sorted_ids = np.argsort([len(text) for text in test_texts])\n",
    "test_texts = np.array(test_texts)[sorted_ids]\n",
    "test_dataset = EvalROUGEDataset(test_texts, tokenizer)\n",
    "test_dataloader = DataLoader(test_dataset, batch_size=batch_size, collate_fn=collate_fn_rouge_ds)"
   ]
  },
  {
   "cell_type": "markdown",
   "id": "e6d53559",
   "metadata": {},
   "source": [
    "### Обучаем модель:"
   ]
  },
  {
   "cell_type": "code",
   "execution_count": 3,
   "id": "2af37335",
   "metadata": {},
   "outputs": [
    {
     "data": {
      "text/plain": [
       "LSTMAutoComplete(\n",
       "  (embedding): Embedding(51, 512, padding_idx=0)\n",
       "  (lstm): LSTM(512, 512, num_layers=2, batch_first=True)\n",
       "  (dropout): Dropout(p=0.3, inplace=False)\n",
       "  (ffn): Linear(in_features=512, out_features=51, bias=True)\n",
       ")"
      ]
     },
     "execution_count": 3,
     "metadata": {},
     "output_type": "execute_result"
    }
   ],
   "source": [
    "from src.lstm_model import LSTMAutoComplete\n",
    "from src.model_train import train_one_epoch\n",
    "from src.model_eval import evaluate_model\n",
    "\n",
    "from torch.optim import Adam\n",
    "from torch.optim.lr_scheduler import StepLR\n",
    "\n",
    "import matplotlib.pyplot as plt\n",
    "\n",
    "import torch.nn as nn\n",
    "import torch\n",
    "\n",
    "import os\n",
    "\n",
    "\n",
    "device = 'cuda' if torch.cuda.is_available() else 'cpu'\n",
    "\n",
    "# Определяем модель:\n",
    "## 2 скрытых слоя\n",
    "## размерность скрытого состояния 512\n",
    "model = LSTMAutoComplete(len(tokenizer.vocab), pad_token_id=tokenizer.pad_token_id, hidden_size=512, num_layers=2)\n",
    "model"
   ]
  },
  {
   "cell_type": "code",
   "execution_count": 5,
   "id": "a65e43a3",
   "metadata": {},
   "outputs": [
    {
     "name": "stdout",
     "output_type": "stream",
     "text": [
      "=== Before training ===\n"
     ]
    },
    {
     "name": "stderr",
     "output_type": "stream",
     "text": [
      "Evaluating: 100%|██████████| 368/368 [00:23<00:00, 15.69it/s]\n",
      "Evaluating ROUGE: 100%|██████████| 368/368 [08:35<00:00,  1.40s/it]\n"
     ]
    },
    {
     "name": "stdout",
     "output_type": "stream",
     "text": [
      "Validation loss: 3.9316408128842064\n",
      "Rouge metrics:\n",
      "rouge1: 0.0035\n",
      "rouge2: 0.0000\n",
      "rougeL: 0.0035\n",
      "rougeLsum: 0.0035\n",
      "what are you talking vl).0tr ?2q 60:1v;ee!s\n",
      "===================================\n",
      "\n"
     ]
    },
    {
     "name": "stderr",
     "output_type": "stream",
     "text": [
      "Training epoch 1: 100%|██████████| 2928/2928 [13:37<00:00,  3.58it/s]\n"
     ]
    },
    {
     "name": "stdout",
     "output_type": "stream",
     "text": [
      "Epoch: 1, training loss: 1.5398\n"
     ]
    },
    {
     "name": "stderr",
     "output_type": "stream",
     "text": [
      "Evaluating: 100%|██████████| 368/368 [00:25<00:00, 14.64it/s]\n",
      "Evaluating ROUGE: 100%|██████████| 368/368 [08:40<00:00,  1.41s/it]\n"
     ]
    },
    {
     "name": "stdout",
     "output_type": "stream",
     "text": [
      "Validation loss: 1.3412280173405358\n",
      "Rouge metrics:\n",
      "rouge1: 0.0744\n",
      "rouge2: 0.0049\n",
      "rougeL: 0.0742\n",
      "rougeLsum: 0.0742\n",
      "what are you talking  again? jt he's so gd. hay against girly\n",
      "===================================\n",
      "\n"
     ]
    },
    {
     "name": "stderr",
     "output_type": "stream",
     "text": [
      "Training epoch 2: 100%|██████████| 2928/2928 [13:39<00:00,  3.57it/s]\n"
     ]
    },
    {
     "name": "stdout",
     "output_type": "stream",
     "text": [
      "Epoch: 2, training loss: 1.3404\n"
     ]
    },
    {
     "name": "stderr",
     "output_type": "stream",
     "text": [
      "Evaluating: 100%|██████████| 368/368 [00:25<00:00, 14.59it/s]\n",
      "Evaluating ROUGE: 100%|██████████| 368/368 [08:41<00:00,  1.42s/it]\n"
     ]
    },
    {
     "name": "stdout",
     "output_type": "stream",
     "text": [
      "Validation loss: 1.297888966034288\n",
      "Rouge metrics:\n",
      "rouge1: 0.0801\n",
      "rouge2: 0.0063\n",
      "rougeL: 0.0799\n",
      "rougeLsum: 0.0798\n",
      "what are you talking  me lately this is back later and i thou\n",
      "===================================\n",
      "\n"
     ]
    },
    {
     "name": "stderr",
     "output_type": "stream",
     "text": [
      "Training epoch 3: 100%|██████████| 2928/2928 [13:38<00:00,  3.58it/s]\n"
     ]
    },
    {
     "name": "stdout",
     "output_type": "stream",
     "text": [
      "Epoch: 3, training loss: 1.3070\n"
     ]
    },
    {
     "name": "stderr",
     "output_type": "stream",
     "text": [
      "Evaluating: 100%|██████████| 368/368 [00:25<00:00, 14.64it/s]\n",
      "Evaluating ROUGE: 100%|██████████| 368/368 [08:34<00:00,  1.40s/it]\n"
     ]
    },
    {
     "name": "stdout",
     "output_type": "stream",
     "text": [
      "Validation loss: 1.2769372942654982\n",
      "Rouge metrics:\n",
      "rouge1: 0.0819\n",
      "rouge2: 0.0067\n",
      "rougeL: 0.0817\n",
      "rougeLsum: 0.0817\n",
      "what are you talking  about spamburg (bridesman, pending hel\n",
      "===================================\n",
      "\n"
     ]
    },
    {
     "name": "stderr",
     "output_type": "stream",
     "text": [
      "Training epoch 4: 100%|██████████| 2928/2928 [13:40<00:00,  3.57it/s]\n"
     ]
    },
    {
     "name": "stdout",
     "output_type": "stream",
     "text": [
      "Epoch: 4, training loss: 1.2778\n"
     ]
    },
    {
     "name": "stderr",
     "output_type": "stream",
     "text": [
      "Evaluating: 100%|██████████| 368/368 [00:25<00:00, 14.47it/s]\n",
      "Evaluating ROUGE: 100%|██████████| 368/368 [08:43<00:00,  1.42s/it]\n"
     ]
    },
    {
     "name": "stdout",
     "output_type": "stream",
     "text": [
      "Validation loss: 1.258436546701452\n",
      "Rouge metrics:\n",
      "rouge1: 0.0843\n",
      "rouge2: 0.0072\n",
      "rougeL: 0.0841\n",
      "rougeLsum: 0.0841\n",
      "what are you talking  about with chuockrowin's tweet talk rea\n",
      "===================================\n",
      "\n"
     ]
    },
    {
     "name": "stderr",
     "output_type": "stream",
     "text": [
      "Training epoch 5: 100%|██████████| 2928/2928 [13:38<00:00,  3.58it/s]\n"
     ]
    },
    {
     "name": "stdout",
     "output_type": "stream",
     "text": [
      "Epoch: 5, training loss: 1.2684\n"
     ]
    },
    {
     "name": "stderr",
     "output_type": "stream",
     "text": [
      "Evaluating: 100%|██████████| 368/368 [00:25<00:00, 14.56it/s]\n",
      "Evaluating ROUGE: 100%|██████████| 368/368 [08:45<00:00,  1.43s/it]\n"
     ]
    },
    {
     "name": "stdout",
     "output_type": "stream",
     "text": [
      "Validation loss: 1.2530170183466829\n",
      "Rouge metrics:\n",
      "rouge1: 0.0847\n",
      "rouge2: 0.0073\n",
      "rougeL: 0.0845\n",
      "rougeLsum: 0.0844\n",
      "what are you talking  about? me, singer and - thanks darn, i \n",
      "===================================\n",
      "\n"
     ]
    },
    {
     "name": "stderr",
     "output_type": "stream",
     "text": [
      "Training epoch 6: 100%|██████████| 2928/2928 [13:40<00:00,  3.57it/s]\n"
     ]
    },
    {
     "name": "stdout",
     "output_type": "stream",
     "text": [
      "Epoch: 6, training loss: 1.2617\n"
     ]
    },
    {
     "name": "stderr",
     "output_type": "stream",
     "text": [
      "Evaluating: 100%|██████████| 368/368 [00:25<00:00, 14.54it/s]\n",
      "Evaluating ROUGE: 100%|██████████| 368/368 [08:39<00:00,  1.41s/it]\n"
     ]
    },
    {
     "name": "stdout",
     "output_type": "stream",
     "text": [
      "Validation loss: 1.2488983999127927\n",
      "Rouge metrics:\n",
      "rouge1: 0.0861\n",
      "rouge2: 0.0078\n",
      "rougeL: 0.0859\n",
      "rougeLsum: 0.0859\n",
      "what are you talking ? assholes needs resist harry, duck crac\n",
      "===================================\n",
      "\n"
     ]
    },
    {
     "name": "stderr",
     "output_type": "stream",
     "text": [
      "Training epoch 7: 100%|██████████| 2928/2928 [13:40<00:00,  3.57it/s]\n"
     ]
    },
    {
     "name": "stdout",
     "output_type": "stream",
     "text": [
      "Epoch: 7, training loss: 1.2488\n"
     ]
    },
    {
     "name": "stderr",
     "output_type": "stream",
     "text": [
      "Evaluating: 100%|██████████| 368/368 [00:25<00:00, 14.40it/s]\n",
      "Evaluating ROUGE: 100%|██████████| 368/368 [08:42<00:00,  1.42s/it]\n"
     ]
    },
    {
     "name": "stdout",
     "output_type": "stream",
     "text": [
      "Validation loss: 1.2413681994961656\n",
      "Rouge metrics:\n",
      "rouge1: 0.0862\n",
      "rouge2: 0.0077\n",
      "rougeL: 0.0860\n",
      "rougeLsum: 0.0860\n",
      "what are you talking  about? such a lovely day.\n",
      "===================================\n",
      "\n"
     ]
    },
    {
     "name": "stderr",
     "output_type": "stream",
     "text": [
      "Training epoch 8: 100%|██████████| 2928/2928 [13:40<00:00,  3.57it/s]\n"
     ]
    },
    {
     "name": "stdout",
     "output_type": "stream",
     "text": [
      "Epoch: 8, training loss: 1.2450\n"
     ]
    },
    {
     "name": "stderr",
     "output_type": "stream",
     "text": [
      "Evaluating: 100%|██████████| 368/368 [00:25<00:00, 14.54it/s]\n",
      "Evaluating ROUGE: 100%|██████████| 368/368 [08:48<00:00,  1.44s/it]\n"
     ]
    },
    {
     "name": "stdout",
     "output_type": "stream",
     "text": [
      "Validation loss: 1.2391210619522177\n",
      "Rouge metrics:\n",
      "rouge1: 0.0885\n",
      "rouge2: 0.0084\n",
      "rougeL: 0.0882\n",
      "rougeLsum: 0.0882\n",
      "what are you talking  about? i know summer angle is geing a b\n",
      "===================================\n",
      "\n"
     ]
    },
    {
     "name": "stderr",
     "output_type": "stream",
     "text": [
      "Training epoch 9: 100%|██████████| 2928/2928 [13:39<00:00,  3.57it/s]\n"
     ]
    },
    {
     "name": "stdout",
     "output_type": "stream",
     "text": [
      "Epoch: 9, training loss: 1.2423\n"
     ]
    },
    {
     "name": "stderr",
     "output_type": "stream",
     "text": [
      "Evaluating: 100%|██████████| 368/368 [00:25<00:00, 14.48it/s]\n",
      "Evaluating ROUGE: 100%|██████████| 368/368 [08:45<00:00,  1.43s/it]\n"
     ]
    },
    {
     "name": "stdout",
     "output_type": "stream",
     "text": [
      "Validation loss: 1.237497992489649\n",
      "Rouge metrics:\n",
      "rouge1: 0.0882\n",
      "rouge2: 0.0085\n",
      "rougeL: 0.0880\n",
      "rougeLsum: 0.0880\n",
      "what are you talking  about? i do see stickams like miley wit\n",
      "===================================\n",
      "\n"
     ]
    },
    {
     "name": "stderr",
     "output_type": "stream",
     "text": [
      "Training epoch 10: 100%|██████████| 2928/2928 [13:40<00:00,  3.57it/s]\n"
     ]
    },
    {
     "name": "stdout",
     "output_type": "stream",
     "text": [
      "Epoch: 10, training loss: 1.2356\n"
     ]
    },
    {
     "name": "stderr",
     "output_type": "stream",
     "text": [
      "Evaluating: 100%|██████████| 368/368 [00:25<00:00, 14.55it/s]\n",
      "Evaluating ROUGE: 100%|██████████| 368/368 [08:49<00:00,  1.44s/it]\n"
     ]
    },
    {
     "name": "stdout",
     "output_type": "stream",
     "text": [
      "Validation loss: 1.2340524410424025\n",
      "Rouge metrics:\n",
      "rouge1: 0.0883\n",
      "rouge2: 0.0085\n",
      "rougeL: 0.0881\n",
      "rougeLsum: 0.0880\n",
      "what are you talking  about? i have 3 kids and go say hi\n",
      "===================================\n",
      "\n"
     ]
    },
    {
     "data": {
      "image/png": "[encoded data removed]",
      "text/plain": [
       "<Figure size 640x480 with 1 Axes>"
      ]
     },
     "metadata": {},
     "output_type": "display_data"
    }
   ],
   "source": [
    "\n",
    "optimizer = Adam(model.parameters(), lr=0.001)\n",
    "scheduler = StepLR(optimizer, 3, 0.5)\n",
    "criterion = nn.CrossEntropyLoss(ignore_index=tokenizer.pad_token_id)\n",
    "epochs = 10\n",
    "last_epoch = epochs\n",
    "test_phrase = \"what are you talking\"\n",
    "\n",
    "# Посмотрим на валидационные метрики до обучения:\n",
    "print('=== Before training ===')\n",
    "evaluate_model(model, tokenizer, device, val_dataloader, val_rouge_dataloader, criterion, test_phrase=test_phrase)\n",
    "print('===================================\\n')\n",
    "\n",
    "train_losses = []\n",
    "val_losses = []\n",
    "best_val_loss = float('inf')\n",
    "patience = 3\n",
    "patience_counter = 0\n",
    "\n",
    "# Сюда будет сохраняться лучшая модель\n",
    "folder = 'checkpoints'\n",
    "os.makedirs(folder, exist_ok=True)\n",
    "PATH = os.path.join(folder, 'best_model.pth')\n",
    "PATH_INTER = os.path.join(folder, 'intermediate_model.pth')\n",
    "\n",
    "# Обучаем модель в течение 20-ти эпох\n",
    "for epoch in range(1, epochs+1):\n",
    "    train_loss = train_one_epoch(model, device, epoch, train_dataloader, optimizer, criterion, scheduler)\n",
    "    val_loss = evaluate_model(model, tokenizer, device, val_dataloader, val_rouge_dataloader, criterion, test_phrase=test_phrase)\n",
    "    print('===================================\\n')\n",
    "    train_losses.append(train_loss)\n",
    "    val_losses.append(val_loss)\n",
    "    \n",
    "    if abs(val_loss - best_val_loss) < 1e-4:\n",
    "        best_val_loss = val_loss\n",
    "#       Сохраним лучшую модель\n",
    "        torch.save(model.state_dict(), PATH)        \n",
    "        patience_counter +=1\n",
    "        if patience_counter >= patience:\n",
    "            print('Early stopping triggered...')\n",
    "            last_epoch = epoch\n",
    "            break\n",
    "    else:\n",
    "        patience_counter = 0\n",
    "        \n",
    "    torch.save(model.state_dict(), PATH_INTER)\n",
    "\n",
    "# Сохраним результаты обучения\n",
    "torch.save(model.state_dict(), PATH)\n",
    "plt.plot(list(range(1, last_epoch+1)), train_losses, color='b', label='train loss')\n",
    "plt.plot(list(range(1, last_epoch+1)), val_losses, color='g', label='val loss')\n",
    "plt.legend()\n",
    "plt.show()"
   ]
  },
  {
   "cell_type": "code",
   "execution_count": 7,
   "id": "003b7002",
   "metadata": {},
   "outputs": [],
   "source": [
    "from transformers.utils import logging\n",
    "\n",
    "logging.set_verbosity_error()"
   ]
  },
  {
   "cell_type": "markdown",
   "id": "a4f507b4",
   "metadata": {},
   "source": [
    "### Теперь на тестовых данных сравним работу LSTM модели и GPT2.\n",
    "Моделям было предложено примерно 3/4 исходного текста, которые нужно было дополнить 1/4. "
   ]
  },
  {
   "cell_type": "code",
   "execution_count": null,
   "id": "82709c22",
   "metadata": {},
   "outputs": [
    {
     "name": "stderr",
     "output_type": "stream",
     "text": [
      "Device set to use cuda\n"
     ]
    }
   ],
   "source": [
    "from transformers import pipeline\n",
    "\n",
    "# Воспользуемся пайпланом для генерации текста и загрузим модель gpt2\n",
    "generator = pipeline('text-generation', model='distilgpt2', batch_size=batch_size, device=device, truncation=True)\n",
    "generator.tokenizer.pad_token_id = generator.tokenizer.eos_token_id\n",
    "generator.tokenizer.padding_side = 'left'"
   ]
  },
  {
   "cell_type": "code",
   "execution_count": 8,
   "id": "b7183022",
   "metadata": {},
   "outputs": [
    {
     "name": "stderr",
     "output_type": "stream",
     "text": [
      "Autocompleting inputs: 100%|██████████| 366/366 [12:06<00:00,  1.99s/it]\n"
     ]
    },
    {
     "name": "stdout",
     "output_type": "stream",
     "text": [
      "Rouge metrics for test (GPT2):\n",
      "rouge1: 0.0393\n",
      "rouge2: 0.0027\n",
      "rougeL: 0.0385\n",
      "rougeLsum: 0.0385\n",
      "Rouge metrics for test (LSTM-based):\n",
      "rouge1: 0.0887\n",
      "rouge2: 0.0081\n",
      "rougeL: 0.0885\n",
      "rougeLsum: 0.0885\n",
      "=== Samples ===\n",
      "Input: \"dont finish college till 4! someone \"\n",
      "\tGPT2-autocomplete: \"!!\n",
      "\n",
      "\n",
      "\n",
      "\"\n",
      "\tLSTM-autocomplete: \"bub come germa\"\n",
      "===================================\n",
      "\n",
      "Input: \"happy closing i wish you all gd luck\"\n",
      "\tGPT2-autocomplete: \" and luck while you sleep\"\n",
      "\tLSTM-autocomplete: \" finding out a\"\n",
      "===================================\n",
      "\n",
      "Input: \"but when?? the rain gods r still on \"\n",
      "\tGPT2-autocomplete: \"!! i don't think\"\n",
      "\tLSTM-autocomplete: \"a few nights i\"\n",
      "===================================\n",
      "\n",
      "Input: \"md day!! haircut, lunch w dad, down \"\n",
      "\tGPT2-autocomplete: \"????!!!\"\n",
      "\tLSTM-autocomplete: \"the outside, a\"\n",
      "===================================\n",
      "\n",
      "Input: \"- i wish i was there. mom wouldn't b\"\n",
      "\tGPT2-autocomplete: \"t me. i was\"\n",
      "\tLSTM-autocomplete: \"e on ys once h\"\n",
      "===================================\n",
      "\n"
     ]
    }
   ],
   "source": [
    "from src.gpt_vs_lstm_eval import evaluate_gpt_vs_lstm\n",
    "\n",
    "evaluate_gpt_vs_lstm(model, generator, tokenizer, test_dataloader, batch_size=batch_size, device=device)"
   ]
  },
  {
   "cell_type": "markdown",
   "id": "8dcf0635",
   "metadata": {},
   "source": [
    "У LSTM метрика ROUGE получилась выше, чем у GPT2. LSTM-модель неплохо предсказывает служебные слова, а также слова из устойчивых словосочетаний, идущие непосредственно друг за другом. Я бы рекомендовала использовать эту модель для автодополнения 2-3 следующих слов, но не для всей фразы. Кроме того, такой датасет как список твитов очень \"шумный\": он может содержать много опечаток и орфографических ошибок (как преднамеренных так и нет), что затрудняет процесс обучения."
   ]
  }
 ],
 "metadata": {
  "kernelspec": {
   "display_name": ".venv",
   "language": "python",
   "name": "python3"
  },
  "language_info": {
   "codemirror_mode": {
    "name": "ipython",
    "version": 3
   },
   "file_extension": ".py",
   "mimetype": "text/x-python",
   "name": "python",
   "nbconvert_exporter": "python",
   "pygments_lexer": "ipython3",
   "version": "3.10.12"
  }
 },
 "nbformat": 4,
 "nbformat_minor": 5
}
